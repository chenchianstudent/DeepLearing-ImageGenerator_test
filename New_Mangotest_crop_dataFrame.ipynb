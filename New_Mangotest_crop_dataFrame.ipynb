{
 "cells": [
  {
   "cell_type": "code",
   "execution_count": 88,
   "metadata": {},
   "outputs": [],
   "source": [
    "# zca_whitening 對輸入數據施加ZCA白化\n",
    "# rotation_range 數據提升時圖片隨機轉動的角度\n",
    "# width_shift_range 圖片寬度的某個比例，數據提升時圖片水平偏移的幅度\n",
    "# shear_range 剪切強度（逆時針方向的剪切變換角度）\n",
    "# zoom_range 隨機縮放的幅度\n",
    "# horizontal_flip 進行隨機水平翻轉\n",
    "# fill_mode ‘constant’，‘nearest’，‘reflect’或‘wrap’之一，當進行變換時超出邊界的點將根據本參數給定的方法進行處理\n",
    "from keras.preprocessing.image import ImageDataGenerator\n",
    "datagen = ImageDataGenerator(\n",
    "    horizontal_flip=True,\n",
    "    vertical_flip=True,\n",
    "    rotation_range=10,\n",
    "    width_shift_range=0.1,\n",
    "    height_shift_range=0.1,\n",
    "    zoom_range=.1,\n",
    "    fill_mode='nearest',\n",
    "    shear_range=0.1,\n",
    "    rescale=1/255,\n",
    "    brightness_range=[0.5, 1.5])\n",
    "\n",
    "\n"
   ]
  },
  {
   "cell_type": "code",
   "execution_count": 99,
   "metadata": {},
   "outputs": [
    {
     "name": "stdout",
     "output_type": "stream",
     "text": [
      "Found 45000 images belonging to 1 classes.\n",
      "..................................................................................................................................................................................................................................................................................................................................................................................................................................................................down\n"
     ]
    }
   ],
   "source": [
    "#訓練資料的資料擴充儲存\n",
    "train_dir = r'C:/Users/danie/mango/C1-P2_Train Dev/test/'\n",
    "# validation_dir = 'C:/Users/danie/mango/C1-P2_Train Dev/Crop_Dev/'\n",
    "train_generator = datagen.flow_from_directory(\n",
    "          train_dir,\n",
    "          target_size=(224, 224),\n",
    "          batch_size=1,\n",
    "          shuffle=False,\n",
    "          save_to_dir='C:/Users/danie/mango/C1-P2_Train Dev/Train_dataFrame/',\n",
    "          save_prefix='train',\n",
    "          save_format='jpg',\n",
    "          class_mode='binary')\n",
    "\n",
    "for i in range(45000):\n",
    "    train_generator.next()\n",
    "    if (i%100 == 0):\n",
    "        print(\".\", end='')\n",
    "print(\"down\")\n",
    "    \n",
    "    "
   ]
  },
  {
   "cell_type": "code",
   "execution_count": null,
   "metadata": {},
   "outputs": [],
   "source": [
    "#驗證資料的資料擴充儲存\n",
    "validation_generator = test_datagen.flow_from_directory(validation_dir,\n",
    "                                                        target_size=(224, 224),\n",
    "                                                        batch_size=20,\n",
    "                                                        class_mode='binary')"
   ]
  },
  {
   "cell_type": "code",
   "execution_count": 100,
   "metadata": {},
   "outputs": [
    {
     "name": "stdout",
     "output_type": "stream",
     "text": [
      "down\n"
     ]
    }
   ],
   "source": [
    "import os\n",
    "dir1='C:/Users/danie/mango/C1-P2_Train Dev/Train_dataFrame/'#圖片檔案存放地址\n",
    "txt1 = 'C:/Users/danie/mango/C1-P2_Train Dev/Train_dataFrame.csv'#圖片檔名存放txt檔案地址\n",
    "f1 = open(txt1,'a')#開啟檔案流\n",
    "for filename in os.listdir(dir1):\n",
    "    f1.write(filename)#只儲存名字，去除字尾.jpg\n",
    "    f1.write(\"\\n\")#換行\n",
    "f1.close()#關閉檔案流\n",
    "print(\"down\")"
   ]
  },
  {
   "cell_type": "code",
   "execution_count": null,
   "metadata": {},
   "outputs": [],
   "source": []
  }
 ],
 "metadata": {
  "kernelspec": {
   "display_name": "Python 3",
   "language": "python",
   "name": "python3"
  },
  "language_info": {
   "codemirror_mode": {
    "name": "ipython",
    "version": 3
   },
   "file_extension": ".py",
   "mimetype": "text/x-python",
   "name": "python",
   "nbconvert_exporter": "python",
   "pygments_lexer": "ipython3",
   "version": "3.7.7"
  },
  "widgets": {
   "application/vnd.jupyter.widget-state+json": {
    "state": {},
    "version_major": 2,
    "version_minor": 0
   }
  }
 },
 "nbformat": 4,
 "nbformat_minor": 4
}
